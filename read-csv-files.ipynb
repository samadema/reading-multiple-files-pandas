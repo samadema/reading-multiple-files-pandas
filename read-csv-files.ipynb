{
 "cells": [
  {
   "cell_type": "code",
   "execution_count": 1,
   "id": "dd0b8d12",
   "metadata": {},
   "outputs": [],
   "source": [
    "\n",
    "#import subprocess\n",
    "#from subprocess import call\n",
    "\n",
    "\n",
    "import sys # unix commands\n",
    "\n",
    "from pathlib import Path\n",
    "import zipfile"
   ]
  },
  {
   "cell_type": "code",
   "execution_count": 2,
   "id": "8f55b63e",
   "metadata": {},
   "outputs": [],
   "source": [
    "import math\n",
    "import collections\n",
    "\n",
    "import numpy as np\n",
    "import pandas as pd\n",
    "import matplotlib.pyplot as pp\n",
    "\n",
    "%matplotlib inline"
   ]
  },
  {
   "cell_type": "code",
   "execution_count": 3,
   "id": "567cddb3",
   "metadata": {},
   "outputs": [],
   "source": [
    "import urllib.request\n",
    "import requests"
   ]
  },
  {
   "cell_type": "code",
   "execution_count": null,
   "id": "0981df08",
   "metadata": {},
   "outputs": [],
   "source": []
  },
  {
   "cell_type": "markdown",
   "id": "35005edc",
   "metadata": {},
   "source": [
    "## Download Files\n",
    "\n",
    "Social Security Name data set\n",
    "US Social Security Baby Name catalog https://www.ssa.gov/oact/babynames\n",
    "This catalog records the names given to babies born since the year 1880.The datat can be downloaded through the link https://www.ssa.gov/oact/babynames/limits.html"
   ]
  },
  {
   "cell_type": "code",
   "execution_count": 4,
   "id": "092b8858",
   "metadata": {},
   "outputs": [],
   "source": [
    "# define the url\n",
    "names_url = 'https://www.ssa.gov/oact/babynames/names.zip'"
   ]
  },
  {
   "cell_type": "code",
   "execution_count": 6,
   "id": "360d9607",
   "metadata": {},
   "outputs": [
    {
     "data": {
      "text/plain": [
       "('../Data/names.zip', <http.client.HTTPMessage at 0x7f1cfd68be20>)"
      ]
     },
     "execution_count": 6,
     "metadata": {},
     "output_type": "execute_result"
    }
   ],
   "source": [
    "urllib.request.urlretrieve(names_url,'../Data/names.zip') "
   ]
  },
  {
   "cell_type": "code",
   "execution_count": null,
   "id": "e9d0e4ac",
   "metadata": {},
   "outputs": [],
   "source": []
  },
  {
   "cell_type": "code",
   "execution_count": 7,
   "id": "197c2c34",
   "metadata": {},
   "outputs": [],
   "source": [
    "# create HTTP response object. the url of the content to be downloaded is defined as names_url\n",
    "# send a HTTP request to the server and save\n",
    "# the HTTP response in a response object called r\n",
    "\n",
    "r = requests.get(names_url) \n",
    "\n",
    "\n",
    "\n",
    "# we save the received content as a zip file in binary format\n",
    "# the we write the contents of the response (r.content)\n",
    "# to a new file on disk in binary mode\n",
    "\n",
    "with open(\"../Data/names.zip\",'wb') as f:\n",
    "    f.write(r.content)"
   ]
  },
  {
   "cell_type": "markdown",
   "id": "eac174f1",
   "metadata": {},
   "source": [
    "### Checking the Content of the Downloads\n",
    "To confirm that the download has completed correctly, we check the locations where we have specified for the files to be downloaded. This can be done using normal unix commands and is made possible by the `sys` library which has been previously imported"
   ]
  },
  {
   "cell_type": "code",
   "execution_count": 8,
   "id": "7b1080ba",
   "metadata": {},
   "outputs": [
    {
     "name": "stdout",
     "output_type": "stream",
     "text": [
      "\u001b[0m\u001b[01;34mcredit_card_fraud_detection\u001b[0m/  \u001b[01;34mmelbourne-housing\u001b[0m/  \u001b[01;34mnames\u001b[0m/  \u001b[01;31mnames2.zip\u001b[0m  \u001b[01;31mnames.zip\u001b[0m\r\n"
     ]
    }
   ],
   "source": [
    "ls ../Data/\n"
   ]
  },
  {
   "cell_type": "code",
   "execution_count": null,
   "id": "173f9dd9",
   "metadata": {},
   "outputs": [],
   "source": []
  },
  {
   "cell_type": "markdown",
   "id": "5dc6c254",
   "metadata": {},
   "source": [
    "### Uncompress the downloaded zip file\n",
    "Since the downloaded data is contained in a zip file, we will need to uncompress the zip file to gain access to its contents. Here we use the zipfile module to uncompress the zip file."
   ]
  },
  {
   "cell_type": "code",
   "execution_count": 9,
   "id": "df402f32",
   "metadata": {},
   "outputs": [],
   "source": [
    "zipfile.ZipFile('../Data/names.zip').extractall('../Data/names/')"
   ]
  },
  {
   "cell_type": "markdown",
   "id": "d607b7c6",
   "metadata": {},
   "source": [
    "Now let's check to confirm that zip file has been uncompressed and its contents are in the specified director"
   ]
  },
  {
   "cell_type": "code",
   "execution_count": 10,
   "id": "483724fc",
   "metadata": {},
   "outputs": [
    {
     "name": "stdout",
     "output_type": "stream",
     "text": [
      "NationalReadMe.pdf  yob1908.txt  yob1937.txt  yob1966.txt  yob1995.txt\r\n",
      "yob1880.txt         yob1909.txt  yob1938.txt  yob1967.txt  yob1996.txt\r\n",
      "yob1881.txt         yob1910.txt  yob1939.txt  yob1968.txt  yob1997.txt\r\n",
      "yob1882.txt         yob1911.txt  yob1940.txt  yob1969.txt  yob1998.txt\r\n",
      "yob1883.txt         yob1912.txt  yob1941.txt  yob1970.txt  yob1999.txt\r\n",
      "yob1884.txt         yob1913.txt  yob1942.txt  yob1971.txt  yob2000.txt\r\n",
      "yob1885.txt         yob1914.txt  yob1943.txt  yob1972.txt  yob2001.txt\r\n",
      "yob1886.txt         yob1915.txt  yob1944.txt  yob1973.txt  yob2002.txt\r\n",
      "yob1887.txt         yob1916.txt  yob1945.txt  yob1974.txt  yob2003.txt\r\n",
      "yob1888.txt         yob1917.txt  yob1946.txt  yob1975.txt  yob2004.txt\r\n",
      "yob1889.txt         yob1918.txt  yob1947.txt  yob1976.txt  yob2005.txt\r\n",
      "yob1890.txt         yob1919.txt  yob1948.txt  yob1977.txt  yob2006.txt\r\n",
      "yob1891.txt         yob1920.txt  yob1949.txt  yob1978.txt  yob2007.txt\r\n",
      "yob1892.txt         yob1921.txt  yob1950.txt  yob1979.txt  yob2008.txt\r\n",
      "yob1893.txt         yob1922.txt  yob1951.txt  yob1980.txt  yob2009.txt\r\n",
      "yob1894.txt         yob1923.txt  yob1952.txt  yob1981.txt  yob2010.txt\r\n",
      "yob1895.txt         yob1924.txt  yob1953.txt  yob1982.txt  yob2011.txt\r\n",
      "yob1896.txt         yob1925.txt  yob1954.txt  yob1983.txt  yob2012.txt\r\n",
      "yob1897.txt         yob1926.txt  yob1955.txt  yob1984.txt  yob2013.txt\r\n",
      "yob1898.txt         yob1927.txt  yob1956.txt  yob1985.txt  yob2014.txt\r\n",
      "yob1899.txt         yob1928.txt  yob1957.txt  yob1986.txt  yob2015.txt\r\n",
      "yob1900.txt         yob1929.txt  yob1958.txt  yob1987.txt  yob2016.txt\r\n",
      "yob1901.txt         yob1930.txt  yob1959.txt  yob1988.txt  yob2017.txt\r\n",
      "yob1902.txt         yob1931.txt  yob1960.txt  yob1989.txt  yob2018.txt\r\n",
      "yob1903.txt         yob1932.txt  yob1961.txt  yob1990.txt  yob2019.txt\r\n",
      "yob1904.txt         yob1933.txt  yob1962.txt  yob1991.txt  yob2020.txt\r\n",
      "yob1905.txt         yob1934.txt  yob1963.txt  yob1992.txt  yob2021.txt\r\n",
      "yob1906.txt         yob1935.txt  yob1964.txt  yob1993.txt\r\n",
      "yob1907.txt         yob1936.txt  yob1965.txt  yob1994.txt\r\n"
     ]
    }
   ],
   "source": [
    "ls ../Data/names"
   ]
  },
  {
   "cell_type": "markdown",
   "id": "a6aa2bed",
   "metadata": {},
   "source": [
    "## Reading the Data"
   ]
  },
  {
   "cell_type": "code",
   "execution_count": null,
   "id": "25ef7e3e",
   "metadata": {},
   "outputs": [],
   "source": []
  },
  {
   "cell_type": "markdown",
   "id": "0e228d47",
   "metadata": {},
   "source": [
    "### Read Single File"
   ]
  },
  {
   "cell_type": "markdown",
   "id": "6c6b73a5",
   "metadata": {},
   "source": [
    "try to read one of the files so that we can preview the data and have see what it looks like"
   ]
  },
  {
   "cell_type": "code",
   "execution_count": 11,
   "id": "43f09d01",
   "metadata": {},
   "outputs": [
    {
     "data": {
      "text/html": [
       "<div>\n",
       "<style scoped>\n",
       "    .dataframe tbody tr th:only-of-type {\n",
       "        vertical-align: middle;\n",
       "    }\n",
       "\n",
       "    .dataframe tbody tr th {\n",
       "        vertical-align: top;\n",
       "    }\n",
       "\n",
       "    .dataframe thead th {\n",
       "        text-align: right;\n",
       "    }\n",
       "</style>\n",
       "<table border=\"1\" class=\"dataframe\">\n",
       "  <thead>\n",
       "    <tr style=\"text-align: right;\">\n",
       "      <th></th>\n",
       "      <th>Olivia</th>\n",
       "      <th>F</th>\n",
       "      <th>17641</th>\n",
       "    </tr>\n",
       "  </thead>\n",
       "  <tbody>\n",
       "    <tr>\n",
       "      <th>0</th>\n",
       "      <td>Emma</td>\n",
       "      <td>F</td>\n",
       "      <td>15656</td>\n",
       "    </tr>\n",
       "    <tr>\n",
       "      <th>1</th>\n",
       "      <td>Ava</td>\n",
       "      <td>F</td>\n",
       "      <td>13160</td>\n",
       "    </tr>\n",
       "    <tr>\n",
       "      <th>2</th>\n",
       "      <td>Charlotte</td>\n",
       "      <td>F</td>\n",
       "      <td>13065</td>\n",
       "    </tr>\n",
       "    <tr>\n",
       "      <th>3</th>\n",
       "      <td>Sophia</td>\n",
       "      <td>F</td>\n",
       "      <td>13036</td>\n",
       "    </tr>\n",
       "    <tr>\n",
       "      <th>4</th>\n",
       "      <td>Amelia</td>\n",
       "      <td>F</td>\n",
       "      <td>12767</td>\n",
       "    </tr>\n",
       "  </tbody>\n",
       "</table>\n",
       "</div>"
      ],
      "text/plain": [
       "      Olivia  F  17641\n",
       "0       Emma  F  15656\n",
       "1        Ava  F  13160\n",
       "2  Charlotte  F  13065\n",
       "3     Sophia  F  13036\n",
       "4     Amelia  F  12767"
      ]
     },
     "execution_count": 11,
     "metadata": {},
     "output_type": "execute_result"
    }
   ],
   "source": [
    "\n",
    "names2020_1 = pd.read_csv('../Data/names/yob2020.txt')\n",
    "names2020_1.head()"
   ]
  },
  {
   "cell_type": "markdown",
   "id": "043f292c",
   "metadata": {},
   "source": [
    "##### Adding a Header Row\n",
    "From the previous step we see that the data does not contain a header row. We will need to add a header row to make our analysis easier. We do this in the next step by using the `names` parameter of `read_csv` to pass a list of column names while reading the file"
   ]
  },
  {
   "cell_type": "code",
   "execution_count": 11,
   "id": "8e937b0a",
   "metadata": {},
   "outputs": [
    {
     "data": {
      "text/html": [
       "<div>\n",
       "<style scoped>\n",
       "    .dataframe tbody tr th:only-of-type {\n",
       "        vertical-align: middle;\n",
       "    }\n",
       "\n",
       "    .dataframe tbody tr th {\n",
       "        vertical-align: top;\n",
       "    }\n",
       "\n",
       "    .dataframe thead th {\n",
       "        text-align: right;\n",
       "    }\n",
       "</style>\n",
       "<table border=\"1\" class=\"dataframe\">\n",
       "  <thead>\n",
       "    <tr style=\"text-align: right;\">\n",
       "      <th></th>\n",
       "      <th>name</th>\n",
       "      <th>sex</th>\n",
       "      <th>number</th>\n",
       "    </tr>\n",
       "  </thead>\n",
       "  <tbody>\n",
       "    <tr>\n",
       "      <th>0</th>\n",
       "      <td>Olivia</td>\n",
       "      <td>F</td>\n",
       "      <td>17535</td>\n",
       "    </tr>\n",
       "    <tr>\n",
       "      <th>1</th>\n",
       "      <td>Emma</td>\n",
       "      <td>F</td>\n",
       "      <td>15581</td>\n",
       "    </tr>\n",
       "    <tr>\n",
       "      <th>2</th>\n",
       "      <td>Ava</td>\n",
       "      <td>F</td>\n",
       "      <td>13084</td>\n",
       "    </tr>\n",
       "    <tr>\n",
       "      <th>3</th>\n",
       "      <td>Charlotte</td>\n",
       "      <td>F</td>\n",
       "      <td>13003</td>\n",
       "    </tr>\n",
       "    <tr>\n",
       "      <th>4</th>\n",
       "      <td>Sophia</td>\n",
       "      <td>F</td>\n",
       "      <td>12976</td>\n",
       "    </tr>\n",
       "  </tbody>\n",
       "</table>\n",
       "</div>"
      ],
      "text/plain": [
       "        name sex  number\n",
       "0     Olivia   F   17535\n",
       "1       Emma   F   15581\n",
       "2        Ava   F   13084\n",
       "3  Charlotte   F   13003\n",
       "4     Sophia   F   12976"
      ]
     },
     "execution_count": 11,
     "metadata": {},
     "output_type": "execute_result"
    }
   ],
   "source": [
    "\n",
    "names2020_2 = pd.read_csv('../Data/names/yob2020.txt', names=['name','sex','number'])\n",
    "names2020_2.head()"
   ]
  },
  {
   "cell_type": "markdown",
   "id": "264161b7",
   "metadata": {},
   "source": [
    "##### Add a helper column for descriptive purposes\n",
    "Although we know from the file name that this data is for the year 2020, there is nothing in the data itself to indicate this. We can therefore add a helper column to show this. We use the `assign` method of `read_csv` to do this as follows: "
   ]
  },
  {
   "cell_type": "code",
   "execution_count": 12,
   "id": "938d4eda",
   "metadata": {},
   "outputs": [
    {
     "data": {
      "text/html": [
       "<div>\n",
       "<style scoped>\n",
       "    .dataframe tbody tr th:only-of-type {\n",
       "        vertical-align: middle;\n",
       "    }\n",
       "\n",
       "    .dataframe tbody tr th {\n",
       "        vertical-align: top;\n",
       "    }\n",
       "\n",
       "    .dataframe thead th {\n",
       "        text-align: right;\n",
       "    }\n",
       "</style>\n",
       "<table border=\"1\" class=\"dataframe\">\n",
       "  <thead>\n",
       "    <tr style=\"text-align: right;\">\n",
       "      <th></th>\n",
       "      <th>name</th>\n",
       "      <th>sex</th>\n",
       "      <th>number</th>\n",
       "      <th>year</th>\n",
       "    </tr>\n",
       "  </thead>\n",
       "  <tbody>\n",
       "    <tr>\n",
       "      <th>0</th>\n",
       "      <td>Olivia</td>\n",
       "      <td>F</td>\n",
       "      <td>17535</td>\n",
       "      <td>2020</td>\n",
       "    </tr>\n",
       "    <tr>\n",
       "      <th>1</th>\n",
       "      <td>Emma</td>\n",
       "      <td>F</td>\n",
       "      <td>15581</td>\n",
       "      <td>2020</td>\n",
       "    </tr>\n",
       "    <tr>\n",
       "      <th>2</th>\n",
       "      <td>Ava</td>\n",
       "      <td>F</td>\n",
       "      <td>13084</td>\n",
       "      <td>2020</td>\n",
       "    </tr>\n",
       "    <tr>\n",
       "      <th>3</th>\n",
       "      <td>Charlotte</td>\n",
       "      <td>F</td>\n",
       "      <td>13003</td>\n",
       "      <td>2020</td>\n",
       "    </tr>\n",
       "    <tr>\n",
       "      <th>4</th>\n",
       "      <td>Sophia</td>\n",
       "      <td>F</td>\n",
       "      <td>12976</td>\n",
       "      <td>2020</td>\n",
       "    </tr>\n",
       "  </tbody>\n",
       "</table>\n",
       "</div>"
      ],
      "text/plain": [
       "        name sex  number  year\n",
       "0     Olivia   F   17535  2020\n",
       "1       Emma   F   15581  2020\n",
       "2        Ava   F   13084  2020\n",
       "3  Charlotte   F   13003  2020\n",
       "4     Sophia   F   12976  2020"
      ]
     },
     "execution_count": 12,
     "metadata": {},
     "output_type": "execute_result"
    }
   ],
   "source": [
    "names2020_3 = pd.read_csv('../Data/names/yob2020.txt', names=['name','sex','number']).assign(year=2020)\n",
    "names2020_3.head()"
   ]
  },
  {
   "cell_type": "markdown",
   "id": "5b7900f8",
   "metadata": {},
   "source": [
    "### Read All Files in the Folder\n",
    "We have seen how we can read each individual file in the folder into its own dataframe. In practice, when faced with a situation where we need to read several files in a folder into a data frame; using a reading each file individually is not very convenient. We want a way to read all the files into a single data frame, without requiring a `read_csv` statement for each of the files. In effect, we do not want to explicitly specify the name of each individual file, as that will require several lines of code (as many as there are files), just to read the data.\n",
    "\n",
    "The general idea therefore is as follows:\n",
    "\n",
    "<ol>\n",
    "  <li> Create a list that contains the names of all the files in the folder </li>\n",
    "  <li> Create another list that will contain data frames\n",
    "  <li> Iterate over the list of file names, reading the content of each file into a data frame and then adding each data frame to the list of data frames </li>\n",
    "  <li> Merge all data frames in the list of data frames into a single data frams </li>\n",
    "</ol>\n",
    "\n",
    "We will do this below:"
   ]
  },
  {
   "cell_type": "markdown",
   "id": "dc0adb48",
   "metadata": {},
   "source": [
    "### Using a for loop"
   ]
  },
  {
   "cell_type": "markdown",
   "id": "b2b38091",
   "metadata": {},
   "source": [
    "First we specify the location/folder that contains the files that contains the files that we are interested in."
   ]
  },
  {
   "cell_type": "code",
   "execution_count": 14,
   "id": "d9d8a451",
   "metadata": {},
   "outputs": [],
   "source": [
    "folder = Path('../Data/names/').absolute()\n",
    "# [f for f in folder.iterdir() iff f.name.startswith('yob') ]"
   ]
  },
  {
   "cell_type": "markdown",
   "id": "49f5927b",
   "metadata": {},
   "source": [
    "Next, we create a list that contains the paths to each of the files in the directory"
   ]
  },
  {
   "cell_type": "code",
   "execution_count": 16,
   "id": "a03e5d2d",
   "metadata": {},
   "outputs": [],
   "source": [
    "list_of_files= []\n",
    "for f in folder.iterdir():\n",
    "    if ( f.name.startswith('yob') and f.name.endswith('txt') ):\n",
    "        list_of_files.append(f)"
   ]
  },
  {
   "cell_type": "markdown",
   "id": "7a5d8e6b",
   "metadata": {},
   "source": [
    "Next, we create a **list_of_dataframes**; then iterate through the **list_of_files**, reading each file into a dataframe and adding the respective dataframes to the **list_of_dataframes**.\n",
    "\n",
    "Recall that the data in the files does not have headers, so we use the `names` parameter of `read_csv` to pass a list of column names while reading the file.\n",
    "\n",
    "`list_of_dfs = []\n",
    "for name_of_file in list_of_files:\n",
    "    list_of_dfs.append( pd.read_csv(name_of_file, names=['name','sex','number']) )`\n",
    "    \n",
    "The code snippet shown above will successfully read the files into dataframes and append each dataframe to the **list_of_dataframes**; however, as there is no column to tell us what year is represented by each record, we use a helper column to show this. The helper column can be added while reading the data by using the `assign` method of `read_csv`. Additionally, we can add another helper column to indicate the name of the file from which the data was read."
   ]
  },
  {
   "cell_type": "code",
   "execution_count": 26,
   "id": "10ee7967",
   "metadata": {},
   "outputs": [
    {
     "data": {
      "text/plain": [
       "141"
      ]
     },
     "execution_count": 26,
     "metadata": {},
     "output_type": "execute_result"
    }
   ],
   "source": [
    "list_of_dataframes = []\n",
    "for idx,name_of_file in enumerate(list_of_files,1):\n",
    "    list_of_dataframes.append( pd.read_csv(name_of_file, names=['name','sex','number']).\n",
    "                       assign(file_num = f'file-{idx}', file_name=name_of_file.name[0::]) )\n",
    "    \n",
    "len(list_of_dataframes)"
   ]
  },
  {
   "cell_type": "markdown",
   "id": "c04de890",
   "metadata": {},
   "source": [
    "#### Concatenate the dataframes into one dataframes"
   ]
  },
  {
   "cell_type": "code",
   "execution_count": 27,
   "id": "a91c9453",
   "metadata": {},
   "outputs": [
    {
     "data": {
      "text/html": [
       "<div>\n",
       "<style scoped>\n",
       "    .dataframe tbody tr th:only-of-type {\n",
       "        vertical-align: middle;\n",
       "    }\n",
       "\n",
       "    .dataframe tbody tr th {\n",
       "        vertical-align: top;\n",
       "    }\n",
       "\n",
       "    .dataframe thead th {\n",
       "        text-align: right;\n",
       "    }\n",
       "</style>\n",
       "<table border=\"1\" class=\"dataframe\">\n",
       "  <thead>\n",
       "    <tr style=\"text-align: right;\">\n",
       "      <th></th>\n",
       "      <th>name</th>\n",
       "      <th>sex</th>\n",
       "      <th>number</th>\n",
       "      <th>file_num</th>\n",
       "      <th>file_name</th>\n",
       "    </tr>\n",
       "  </thead>\n",
       "  <tbody>\n",
       "    <tr>\n",
       "      <th>0</th>\n",
       "      <td>Emily</td>\n",
       "      <td>F</td>\n",
       "      <td>23944</td>\n",
       "      <td>file-1</td>\n",
       "      <td>yob2005.txt</td>\n",
       "    </tr>\n",
       "    <tr>\n",
       "      <th>1</th>\n",
       "      <td>Emma</td>\n",
       "      <td>F</td>\n",
       "      <td>20348</td>\n",
       "      <td>file-1</td>\n",
       "      <td>yob2005.txt</td>\n",
       "    </tr>\n",
       "    <tr>\n",
       "      <th>2</th>\n",
       "      <td>Madison</td>\n",
       "      <td>F</td>\n",
       "      <td>19571</td>\n",
       "      <td>file-1</td>\n",
       "      <td>yob2005.txt</td>\n",
       "    </tr>\n",
       "    <tr>\n",
       "      <th>3</th>\n",
       "      <td>Abigail</td>\n",
       "      <td>F</td>\n",
       "      <td>15751</td>\n",
       "      <td>file-1</td>\n",
       "      <td>yob2005.txt</td>\n",
       "    </tr>\n",
       "    <tr>\n",
       "      <th>4</th>\n",
       "      <td>Olivia</td>\n",
       "      <td>F</td>\n",
       "      <td>15694</td>\n",
       "      <td>file-1</td>\n",
       "      <td>yob2005.txt</td>\n",
       "    </tr>\n",
       "  </tbody>\n",
       "</table>\n",
       "</div>"
      ],
      "text/plain": [
       "      name sex  number file_num    file_name\n",
       "0    Emily   F   23944   file-1  yob2005.txt\n",
       "1     Emma   F   20348   file-1  yob2005.txt\n",
       "2  Madison   F   19571   file-1  yob2005.txt\n",
       "3  Abigail   F   15751   file-1  yob2005.txt\n",
       "4   Olivia   F   15694   file-1  yob2005.txt"
      ]
     },
     "execution_count": 27,
     "metadata": {},
     "output_type": "execute_result"
    }
   ],
   "source": [
    "dfs_in_one = pd.concat(list_of_dataframes)\n",
    "dfs_in_one.head()"
   ]
  },
  {
   "cell_type": "code",
   "execution_count": 28,
   "id": "de7f3a46",
   "metadata": {},
   "outputs": [
    {
     "data": {
      "text/html": [
       "<div>\n",
       "<style scoped>\n",
       "    .dataframe tbody tr th:only-of-type {\n",
       "        vertical-align: middle;\n",
       "    }\n",
       "\n",
       "    .dataframe tbody tr th {\n",
       "        vertical-align: top;\n",
       "    }\n",
       "\n",
       "    .dataframe thead th {\n",
       "        text-align: right;\n",
       "    }\n",
       "</style>\n",
       "<table border=\"1\" class=\"dataframe\">\n",
       "  <thead>\n",
       "    <tr style=\"text-align: right;\">\n",
       "      <th></th>\n",
       "      <th>name</th>\n",
       "      <th>sex</th>\n",
       "      <th>number</th>\n",
       "      <th>file_num</th>\n",
       "      <th>file_name</th>\n",
       "    </tr>\n",
       "  </thead>\n",
       "  <tbody>\n",
       "    <tr>\n",
       "      <th>0</th>\n",
       "      <td>Olivia</td>\n",
       "      <td>F</td>\n",
       "      <td>17535</td>\n",
       "      <td>file-94</td>\n",
       "      <td>yob2020.txt</td>\n",
       "    </tr>\n",
       "    <tr>\n",
       "      <th>1</th>\n",
       "      <td>Emma</td>\n",
       "      <td>F</td>\n",
       "      <td>15581</td>\n",
       "      <td>file-94</td>\n",
       "      <td>yob2020.txt</td>\n",
       "    </tr>\n",
       "    <tr>\n",
       "      <th>2</th>\n",
       "      <td>Ava</td>\n",
       "      <td>F</td>\n",
       "      <td>13084</td>\n",
       "      <td>file-94</td>\n",
       "      <td>yob2020.txt</td>\n",
       "    </tr>\n",
       "    <tr>\n",
       "      <th>3</th>\n",
       "      <td>Charlotte</td>\n",
       "      <td>F</td>\n",
       "      <td>13003</td>\n",
       "      <td>file-94</td>\n",
       "      <td>yob2020.txt</td>\n",
       "    </tr>\n",
       "    <tr>\n",
       "      <th>4</th>\n",
       "      <td>Sophia</td>\n",
       "      <td>F</td>\n",
       "      <td>12976</td>\n",
       "      <td>file-94</td>\n",
       "      <td>yob2020.txt</td>\n",
       "    </tr>\n",
       "    <tr>\n",
       "      <th>...</th>\n",
       "      <td>...</td>\n",
       "      <td>...</td>\n",
       "      <td>...</td>\n",
       "      <td>...</td>\n",
       "      <td>...</td>\n",
       "    </tr>\n",
       "    <tr>\n",
       "      <th>31266</th>\n",
       "      <td>Zykell</td>\n",
       "      <td>M</td>\n",
       "      <td>5</td>\n",
       "      <td>file-94</td>\n",
       "      <td>yob2020.txt</td>\n",
       "    </tr>\n",
       "    <tr>\n",
       "      <th>31267</th>\n",
       "      <td>Zylus</td>\n",
       "      <td>M</td>\n",
       "      <td>5</td>\n",
       "      <td>file-94</td>\n",
       "      <td>yob2020.txt</td>\n",
       "    </tr>\n",
       "    <tr>\n",
       "      <th>31268</th>\n",
       "      <td>Zymari</td>\n",
       "      <td>M</td>\n",
       "      <td>5</td>\n",
       "      <td>file-94</td>\n",
       "      <td>yob2020.txt</td>\n",
       "    </tr>\n",
       "    <tr>\n",
       "      <th>31269</th>\n",
       "      <td>Zyn</td>\n",
       "      <td>M</td>\n",
       "      <td>5</td>\n",
       "      <td>file-94</td>\n",
       "      <td>yob2020.txt</td>\n",
       "    </tr>\n",
       "    <tr>\n",
       "      <th>31270</th>\n",
       "      <td>Zyran</td>\n",
       "      <td>M</td>\n",
       "      <td>5</td>\n",
       "      <td>file-94</td>\n",
       "      <td>yob2020.txt</td>\n",
       "    </tr>\n",
       "  </tbody>\n",
       "</table>\n",
       "<p>31271 rows × 5 columns</p>\n",
       "</div>"
      ],
      "text/plain": [
       "            name sex  number file_num    file_name\n",
       "0         Olivia   F   17535  file-94  yob2020.txt\n",
       "1           Emma   F   15581  file-94  yob2020.txt\n",
       "2            Ava   F   13084  file-94  yob2020.txt\n",
       "3      Charlotte   F   13003  file-94  yob2020.txt\n",
       "4         Sophia   F   12976  file-94  yob2020.txt\n",
       "...          ...  ..     ...      ...          ...\n",
       "31266     Zykell   M       5  file-94  yob2020.txt\n",
       "31267      Zylus   M       5  file-94  yob2020.txt\n",
       "31268     Zymari   M       5  file-94  yob2020.txt\n",
       "31269        Zyn   M       5  file-94  yob2020.txt\n",
       "31270      Zyran   M       5  file-94  yob2020.txt\n",
       "\n",
       "[31271 rows x 5 columns]"
      ]
     },
     "execution_count": 28,
     "metadata": {},
     "output_type": "execute_result"
    }
   ],
   "source": [
    "# dfs_in_one[dfs_in_one[file_name=='yob2020.txt']]\n",
    "\n",
    "dfs_in_one.loc[dfs_in_one['file_name']=='yob2020.txt']"
   ]
  },
  {
   "cell_type": "markdown",
   "id": "81f708a1",
   "metadata": {},
   "source": [
    "### Using a list comprehension\n",
    "\n",
    "Another way to create a list of files in the folder is to use a list comprehension. This is my preferred method, as it is very concise"
   ]
  },
  {
   "cell_type": "markdown",
   "id": "67fdcbfe",
   "metadata": {},
   "source": [
    "#### Create list of files using a comprehension\n"
   ]
  },
  {
   "cell_type": "code",
   "execution_count": 20,
   "id": "4f9b1f9f",
   "metadata": {},
   "outputs": [],
   "source": [
    "list_of_files = [f for f in folder.iterdir() if f.name.startswith('yob')]"
   ]
  },
  {
   "cell_type": "markdown",
   "id": "e475da71",
   "metadata": {},
   "source": [
    "Below, we employ the use of a list comprehension to help in reading each of the files in the **list_of_files** created above, while creating a **list_of_dataframes**. Each dataframe in the **list_of_dataframes** corresponds to a file in the list_of_files"
   ]
  },
  {
   "cell_type": "code",
   "execution_count": 29,
   "id": "b5641221",
   "metadata": {},
   "outputs": [],
   "source": [
    "\n",
    "    # the assign() method adds a helper column\n",
    "list_of_dfs = [\n",
    "    pd.read_csv(csv_file) for csv_file in (list_of_files)\n",
    "]"
   ]
  },
  {
   "cell_type": "code",
   "execution_count": 30,
   "id": "6a290eac",
   "metadata": {},
   "outputs": [],
   "source": [
    "# display the list of dataframes\n",
    "list_of_dfs"
   ]
  },
  {
   "cell_type": "markdown",
   "id": "8eacdd49",
   "metadata": {},
   "source": [
    "As demonstrated previously, the code snippet shown above will successfully read the files into dataframes and append each dataframe to the **list_of_dfs**; however, as there is no column to tell us what year is represented by each record, \n",
    "\n",
    "We use a helper column to indicate the year that is represented by each record. The helper column can be added while reading the data by using the `assign` method of `read_csv`. We also add another helper column to indicate the name of the file from which the data was read."
   ]
  },
  {
   "cell_type": "markdown",
   "id": "d0423cda",
   "metadata": {},
   "source": [
    "Create a list of files"
   ]
  },
  {
   "cell_type": "markdown",
   "id": "18080a47",
   "metadata": {},
   "source": [
    "#### Reading the files\n",
    "\n",
    "<ol>\n",
    "  <li> First item </li>\n",
    "  <li> Second item </li>\n",
    "  <li> Third item </li>\n",
    "</ol>\n",
    "\n",
    "as the files do not have a header row, we will add a header while reading in the file. If this were a single file we would have done: `df = pd.read_csv('../Data/names/yob2011.txt', names=['name','sex','number'])`"
   ]
  },
  {
   "cell_type": "code",
   "execution_count": 28,
   "id": "48737f1f",
   "metadata": {},
   "outputs": [],
   "source": [
    "\n",
    "    # the assign() method adds a helper column\n",
    "dfs = [\n",
    "    pd.read_csv(name_of_file, names=['name','sex','number']).\n",
    "    assign(file_num = f'file-{idx}', file_name=name_of_file.name[0::])\n",
    "    for idx, name_of_file in enumerate(list_of_files, 1)\n",
    "]"
   ]
  },
  {
   "cell_type": "code",
   "execution_count": 31,
   "id": "b4a5d9f2",
   "metadata": {},
   "outputs": [],
   "source": [
    "#dfs"
   ]
  },
  {
   "cell_type": "code",
   "execution_count": 25,
   "id": "bc92db8f",
   "metadata": {},
   "outputs": [],
   "source": [
    "dfs_in_one = pd.concat(dfs)"
   ]
  },
  {
   "cell_type": "code",
   "execution_count": 26,
   "id": "ea405523",
   "metadata": {},
   "outputs": [
    {
     "data": {
      "text/html": [
       "<div>\n",
       "<style scoped>\n",
       "    .dataframe tbody tr th:only-of-type {\n",
       "        vertical-align: middle;\n",
       "    }\n",
       "\n",
       "    .dataframe tbody tr th {\n",
       "        vertical-align: top;\n",
       "    }\n",
       "\n",
       "    .dataframe thead th {\n",
       "        text-align: right;\n",
       "    }\n",
       "</style>\n",
       "<table border=\"1\" class=\"dataframe\">\n",
       "  <thead>\n",
       "    <tr style=\"text-align: right;\">\n",
       "      <th></th>\n",
       "      <th>name</th>\n",
       "      <th>sex</th>\n",
       "      <th>number</th>\n",
       "      <th>file_num</th>\n",
       "      <th>file_name</th>\n",
       "    </tr>\n",
       "  </thead>\n",
       "  <tbody>\n",
       "    <tr>\n",
       "      <th>0</th>\n",
       "      <td>Emily</td>\n",
       "      <td>F</td>\n",
       "      <td>23948</td>\n",
       "      <td>file-1</td>\n",
       "      <td>yob2005.txt</td>\n",
       "    </tr>\n",
       "    <tr>\n",
       "      <th>1</th>\n",
       "      <td>Emma</td>\n",
       "      <td>F</td>\n",
       "      <td>20349</td>\n",
       "      <td>file-1</td>\n",
       "      <td>yob2005.txt</td>\n",
       "    </tr>\n",
       "    <tr>\n",
       "      <th>2</th>\n",
       "      <td>Madison</td>\n",
       "      <td>F</td>\n",
       "      <td>19572</td>\n",
       "      <td>file-1</td>\n",
       "      <td>yob2005.txt</td>\n",
       "    </tr>\n",
       "    <tr>\n",
       "      <th>3</th>\n",
       "      <td>Abigail</td>\n",
       "      <td>F</td>\n",
       "      <td>15753</td>\n",
       "      <td>file-1</td>\n",
       "      <td>yob2005.txt</td>\n",
       "    </tr>\n",
       "    <tr>\n",
       "      <th>4</th>\n",
       "      <td>Olivia</td>\n",
       "      <td>F</td>\n",
       "      <td>15698</td>\n",
       "      <td>file-1</td>\n",
       "      <td>yob2005.txt</td>\n",
       "    </tr>\n",
       "  </tbody>\n",
       "</table>\n",
       "</div>"
      ],
      "text/plain": [
       "      name sex  number file_num    file_name\n",
       "0    Emily   F   23948   file-1  yob2005.txt\n",
       "1     Emma   F   20349   file-1  yob2005.txt\n",
       "2  Madison   F   19572   file-1  yob2005.txt\n",
       "3  Abigail   F   15753   file-1  yob2005.txt\n",
       "4   Olivia   F   15698   file-1  yob2005.txt"
      ]
     },
     "execution_count": 26,
     "metadata": {},
     "output_type": "execute_result"
    }
   ],
   "source": [
    "dfs_in_one.head()"
   ]
  },
  {
   "cell_type": "markdown",
   "id": "00d618ec",
   "metadata": {},
   "source": [
    "and here we have a dataframe containing the data from all the csv file in the folder"
   ]
  }
 ],
 "metadata": {
  "kernelspec": {
   "display_name": "Python 3",
   "language": "python",
   "name": "python3"
  },
  "language_info": {
   "codemirror_mode": {
    "name": "ipython",
    "version": 3
   },
   "file_extension": ".py",
   "mimetype": "text/x-python",
   "name": "python",
   "nbconvert_exporter": "python",
   "pygments_lexer": "ipython3",
   "version": "3.8.5"
  }
 },
 "nbformat": 4,
 "nbformat_minor": 5
}
