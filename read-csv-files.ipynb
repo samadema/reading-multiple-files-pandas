{
 "cells": [
  {
   "cell_type": "code",
   "execution_count": 1,
   "id": "f70c95c5",
   "metadata": {},
   "outputs": [],
   "source": [
    "import pandas as pd\n",
    "import numpy as np\n",
    "from pandas.io.json import json_normalize #package for flattening json in pandas df\n",
    "import json\n",
    "\n",
    "import matplotlib.pyplot as plt\n",
    "\n",
    "import subprocess\n",
    "from subprocess import call\n",
    "\n",
    "import datetime\n",
    "from datetime import date\n",
    "\n",
    "import sys # unix commands\n",
    "\n",
    "from pathlib import Path"
   ]
  },
  {
   "cell_type": "code",
   "execution_count": 3,
   "id": "d765df91",
   "metadata": {},
   "outputs": [
    {
     "data": {
      "text/plain": [
       "'/home/sam/DSProjects/reading-multiple-files-pandas'"
      ]
     },
     "execution_count": 3,
     "metadata": {},
     "output_type": "execute_result"
    }
   ],
   "source": [
    "pwd"
   ]
  },
  {
   "cell_type": "code",
   "execution_count": 4,
   "id": "06b645a5",
   "metadata": {},
   "outputs": [
    {
     "name": "stdout",
     "output_type": "stream",
     "text": [
      "/home/sam/DSProjects/reading-multiple-files-pandas/data\n"
     ]
    }
   ],
   "source": [
    "cd data"
   ]
  },
  {
   "cell_type": "code",
   "execution_count": 2,
   "id": "2b614386",
   "metadata": {},
   "outputs": [
    {
     "name": "stdout",
     "output_type": "stream",
     "text": [
      "aa  \u001b[0m\u001b[01;34mdata\u001b[0m/  read-csv-files.ipynb  README.md\r\n"
     ]
    }
   ],
   "source": [
    "ls"
   ]
  },
  {
   "cell_type": "code",
   "execution_count": 3,
   "id": "a6b7400b",
   "metadata": {},
   "outputs": [],
   "source": [
    "df = pd.read_csv('data/file1.csv')"
   ]
  },
  {
   "cell_type": "code",
   "execution_count": 4,
   "id": "00aa015f",
   "metadata": {},
   "outputs": [
    {
     "data": {
      "text/html": [
       "<div>\n",
       "<style scoped>\n",
       "    .dataframe tbody tr th:only-of-type {\n",
       "        vertical-align: middle;\n",
       "    }\n",
       "\n",
       "    .dataframe tbody tr th {\n",
       "        vertical-align: top;\n",
       "    }\n",
       "\n",
       "    .dataframe thead th {\n",
       "        text-align: right;\n",
       "    }\n",
       "</style>\n",
       "<table border=\"1\" class=\"dataframe\">\n",
       "  <thead>\n",
       "    <tr style=\"text-align: right;\">\n",
       "      <th></th>\n",
       "      <th>FORENAME1</th>\n",
       "      <th>FORENAME2</th>\n",
       "      <th>SURNAME</th>\n",
       "      <th>EMAIL</th>\n",
       "      <th>TITLE</th>\n",
       "    </tr>\n",
       "  </thead>\n",
       "  <tbody>\n",
       "    <tr>\n",
       "      <th>0</th>\n",
       "      <td>Jon</td>\n",
       "      <td>Kdd</td>\n",
       "      <td>Argos</td>\n",
       "      <td>NaN</td>\n",
       "      <td>Mr</td>\n",
       "    </tr>\n",
       "    <tr>\n",
       "      <th>1</th>\n",
       "      <td>Tim</td>\n",
       "      <td>Ldf</td>\n",
       "      <td>Juto</td>\n",
       "      <td>NaN</td>\n",
       "      <td>Mr</td>\n",
       "    </tr>\n",
       "    <tr>\n",
       "      <th>2</th>\n",
       "      <td>Tom</td>\n",
       "      <td>Res</td>\n",
       "      <td>Lijut</td>\n",
       "      <td>NaN</td>\n",
       "      <td>Dr</td>\n",
       "    </tr>\n",
       "  </tbody>\n",
       "</table>\n",
       "</div>"
      ],
      "text/plain": [
       "  FORENAME1 FORENAME2 SURNAME  EMAIL TITLE\n",
       "0       Jon       Kdd   Argos    NaN    Mr\n",
       "1       Tim       Ldf    Juto    NaN    Mr\n",
       "2       Tom       Res   Lijut    NaN    Dr"
      ]
     },
     "execution_count": 4,
     "metadata": {},
     "output_type": "execute_result"
    }
   ],
   "source": [
    "df.head()"
   ]
  },
  {
   "cell_type": "code",
   "execution_count": 5,
   "id": "45a0ee7d",
   "metadata": {},
   "outputs": [
    {
     "data": {
      "text/plain": [
       "[PosixPath('/home/sam/DSProjects/reading-multiple-files-pandas/data/file1.csv'),\n",
       " PosixPath('/home/sam/DSProjects/reading-multiple-files-pandas/data/file2.csv')]"
      ]
     },
     "execution_count": 5,
     "metadata": {},
     "output_type": "execute_result"
    }
   ],
   "source": [
    "folder = Path('data/').absolute()\n",
    "[f for f in folder.iterdir() if f.name.startswith('file') ]"
   ]
  },
  {
   "cell_type": "code",
   "execution_count": 6,
   "id": "0f1ce9d3",
   "metadata": {},
   "outputs": [],
   "source": [
    "csv_files = [f for f in folder.iterdir() if f.name.startswith('file')]\n",
    "    # the assign() method adds a helper column\n",
    "dfs = [\n",
    "    pd.read_csv(csv_file).assign(file_num = f'file-{idx}', DATA_SOURCE=csv_file.name[0:3])\n",
    "    for idx, csv_file in enumerate(csv_files, 1)\n",
    "]"
   ]
  },
  {
   "cell_type": "code",
   "execution_count": 7,
   "id": "a7d42a1a",
   "metadata": {},
   "outputs": [
    {
     "data": {
      "text/plain": [
       "[  FORENAME1 FORENAME2 SURNAME  EMAIL TITLE file_num DATA_SOURCE\n",
       " 0       Jon       Kdd   Argos    NaN    Mr   file-1         fil\n",
       " 1       Tim       Ldf    Juto    NaN    Mr   file-1         fil\n",
       " 2       Tom       Res   Lijut    NaN    Dr   file-1         fil,\n",
       "   FORENAME1 FORENAME2 SURNAME  EMAIL TITLE file_num DATA_SOURCE\n",
       " 0    Ldkfjd    Bdfidf    Yuod    NaN  Prof   file-2         fil\n",
       " 1     Ldfde     Qwwer   Pdfld    NaN    Mr   file-2         fil\n",
       " 2      Tere      Tfpi   Jldkf    NaN    Dr   file-2         fil]"
      ]
     },
     "execution_count": 7,
     "metadata": {},
     "output_type": "execute_result"
    }
   ],
   "source": [
    "dfs"
   ]
  },
  {
   "cell_type": "code",
   "execution_count": 8,
   "id": "73da7fd0",
   "metadata": {},
   "outputs": [],
   "source": [
    "dfs_in_one = pd.concat(dfs)"
   ]
  },
  {
   "cell_type": "code",
   "execution_count": 9,
   "id": "480de345",
   "metadata": {},
   "outputs": [
    {
     "data": {
      "text/html": [
       "<div>\n",
       "<style scoped>\n",
       "    .dataframe tbody tr th:only-of-type {\n",
       "        vertical-align: middle;\n",
       "    }\n",
       "\n",
       "    .dataframe tbody tr th {\n",
       "        vertical-align: top;\n",
       "    }\n",
       "\n",
       "    .dataframe thead th {\n",
       "        text-align: right;\n",
       "    }\n",
       "</style>\n",
       "<table border=\"1\" class=\"dataframe\">\n",
       "  <thead>\n",
       "    <tr style=\"text-align: right;\">\n",
       "      <th></th>\n",
       "      <th>FORENAME1</th>\n",
       "      <th>FORENAME2</th>\n",
       "      <th>SURNAME</th>\n",
       "      <th>EMAIL</th>\n",
       "      <th>TITLE</th>\n",
       "      <th>file_num</th>\n",
       "      <th>DATA_SOURCE</th>\n",
       "    </tr>\n",
       "  </thead>\n",
       "  <tbody>\n",
       "    <tr>\n",
       "      <th>0</th>\n",
       "      <td>Jon</td>\n",
       "      <td>Kdd</td>\n",
       "      <td>Argos</td>\n",
       "      <td>NaN</td>\n",
       "      <td>Mr</td>\n",
       "      <td>file-1</td>\n",
       "      <td>fil</td>\n",
       "    </tr>\n",
       "    <tr>\n",
       "      <th>1</th>\n",
       "      <td>Tim</td>\n",
       "      <td>Ldf</td>\n",
       "      <td>Juto</td>\n",
       "      <td>NaN</td>\n",
       "      <td>Mr</td>\n",
       "      <td>file-1</td>\n",
       "      <td>fil</td>\n",
       "    </tr>\n",
       "    <tr>\n",
       "      <th>2</th>\n",
       "      <td>Tom</td>\n",
       "      <td>Res</td>\n",
       "      <td>Lijut</td>\n",
       "      <td>NaN</td>\n",
       "      <td>Dr</td>\n",
       "      <td>file-1</td>\n",
       "      <td>fil</td>\n",
       "    </tr>\n",
       "    <tr>\n",
       "      <th>0</th>\n",
       "      <td>Ldkfjd</td>\n",
       "      <td>Bdfidf</td>\n",
       "      <td>Yuod</td>\n",
       "      <td>NaN</td>\n",
       "      <td>Prof</td>\n",
       "      <td>file-2</td>\n",
       "      <td>fil</td>\n",
       "    </tr>\n",
       "    <tr>\n",
       "      <th>1</th>\n",
       "      <td>Ldfde</td>\n",
       "      <td>Qwwer</td>\n",
       "      <td>Pdfld</td>\n",
       "      <td>NaN</td>\n",
       "      <td>Mr</td>\n",
       "      <td>file-2</td>\n",
       "      <td>fil</td>\n",
       "    </tr>\n",
       "    <tr>\n",
       "      <th>2</th>\n",
       "      <td>Tere</td>\n",
       "      <td>Tfpi</td>\n",
       "      <td>Jldkf</td>\n",
       "      <td>NaN</td>\n",
       "      <td>Dr</td>\n",
       "      <td>file-2</td>\n",
       "      <td>fil</td>\n",
       "    </tr>\n",
       "  </tbody>\n",
       "</table>\n",
       "</div>"
      ],
      "text/plain": [
       "  FORENAME1 FORENAME2 SURNAME  EMAIL TITLE file_num DATA_SOURCE\n",
       "0       Jon       Kdd   Argos    NaN    Mr   file-1         fil\n",
       "1       Tim       Ldf    Juto    NaN    Mr   file-1         fil\n",
       "2       Tom       Res   Lijut    NaN    Dr   file-1         fil\n",
       "0    Ldkfjd    Bdfidf    Yuod    NaN  Prof   file-2         fil\n",
       "1     Ldfde     Qwwer   Pdfld    NaN    Mr   file-2         fil\n",
       "2      Tere      Tfpi   Jldkf    NaN    Dr   file-2         fil"
      ]
     },
     "execution_count": 9,
     "metadata": {},
     "output_type": "execute_result"
    }
   ],
   "source": [
    "dfs_in_one"
   ]
  }
 ],
 "metadata": {
  "kernelspec": {
   "display_name": "Python 3",
   "language": "python",
   "name": "python3"
  },
  "language_info": {
   "codemirror_mode": {
    "name": "ipython",
    "version": 3
   },
   "file_extension": ".py",
   "mimetype": "text/x-python",
   "name": "python",
   "nbconvert_exporter": "python",
   "pygments_lexer": "ipython3",
   "version": "3.8.5"
  }
 },
 "nbformat": 4,
 "nbformat_minor": 5
}
